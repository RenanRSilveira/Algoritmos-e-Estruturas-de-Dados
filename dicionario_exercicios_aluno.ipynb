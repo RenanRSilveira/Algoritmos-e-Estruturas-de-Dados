{
  "cells": [
    {
      "cell_type": "markdown",
      "metadata": {
        "id": "vXBKuJlFUUU6"
      },
      "source": [
        "# Exercício 01:\n",
        "\n",
        "Você tem os dados de funcionários por departamento. Seu objetivo é transformar esse dicionário em outro que conte quantos funcionários existem por departamento.\n"
      ]
    },
    {
      "cell_type": "code",
      "execution_count": 1,
      "metadata": {
        "id": "mLIQR7lGQuxf"
      },
      "outputs": [
        {
          "name": "stdout",
          "output_type": "stream",
          "text": [
            "{'Dados': 4, 'TI': 4, 'RH': 2}\n"
          ]
        }
      ],
      "source": [
        "funcionarios = [\n",
        "    {\"nome\": \"Alice\", \"departamento\": \"Dados\"},\n",
        "    {\"nome\": \"Bruno\", \"departamento\": \"TI\"},\n",
        "    {\"nome\": \"Carlos\", \"departamento\": \"Dados\"},\n",
        "    {\"nome\": \"Daniela\", \"departamento\": \"RH\"},\n",
        "    {\"nome\": \"Eduardo\", \"departamento\": \"TI\"},\n",
        "    {\"nome\": \"Fernanda\", \"departamento\": \"Dados\"},\n",
        "    {\"nome\": \"Gabriel\", \"departamento\": \"TI\"},\n",
        "    {\"nome\": \"Isabela\", \"departamento\": \"RH\"},\n",
        "    {\"nome\": \"João\", \"departamento\": \"TI\"},\n",
        "    {\"nome\": \"Karine\", \"departamento\": \"Dados\"},\n",
        "]\n",
        "\n",
        "contagem_departamentos = {}\n",
        "\n",
        "for funcionario in funcionarios:\n",
        "    departamento = funcionario[\"departamento\"]\n",
        "    if departamento in contagem_departamentos:\n",
        "        contagem_departamentos[departamento] += 1\n",
        "    else:\n",
        "        contagem_departamentos[departamento] = 1\n",
        "\n",
        "print(contagem_departamentos)\n"
      ]
    },
    {
      "cell_type": "markdown",
      "metadata": {
        "id": "1r8QRLaGVFz8"
      },
      "source": [
        "# Exercício 02:\n",
        "Suponha que você fez uma requisição para uma API de produtos e recebeu o seguinte retorno:"
      ]
    },
    {
      "cell_type": "code",
      "execution_count": 2,
      "metadata": {
        "id": "Hag1FaQzVHuj"
      },
      "outputs": [],
      "source": [
        "resposta_api = [\n",
        "    {\"id\": 101, \"produto\": \"Mouse\", \"categoria\": \"Periféricos\", \"preco\": 89.90, \"quantidade\": 3},\n",
        "    {\"id\": 102, \"produto\": \"Teclado\", \"categoria\": \"Periféricos\", \"preco\": 120.00, \"quantidade\": 2},\n",
        "    {\"id\": 103, \"produto\": \"Notebook\", \"categoria\": \"Computador\", \"preco\": 3500.00, \"quantidade\": 1},\n",
        "    {\"id\": 104, \"produto\": \"Monitor\", \"categoria\": \"Periféricos\", \"preco\": 899.00, \"quantidade\": 1},\n",
        "    {\"id\": 105, \"produto\": \"Servidor\", \"categoria\": \"Computador\", \"preco\": 7000.00, \"quantidade\": 1},\n",
        "    {\"id\": 106, \"produto\": \"Impressora\", \"categoria\": \"Periféricos\", \"preco\": 400.00, \"quantidade\": 2},\n",
        "    {\"id\": 107, \"produto\": \"Tablet\", \"categoria\": \"Computador\", \"preco\": 1500.00, \"quantidade\": 1},\n",
        "    {\"id\": 108, \"produto\": \"Pendrive\", \"categoria\": \"Periféricos\", \"preco\": 50.00, \"quantidade\": 5},\n",
        "    {\"id\": 109, \"produto\": \"Scanner\", \"categoria\": \"Periféricos\", \"preco\": 300.00, \"quantidade\": 1},\n",
        "    {\"id\": 110, \"produto\": \"Webcam\", \"categoria\": \"Periféricos\", \"preco\": 120.00, \"quantidade\": 3},\n",
        "    {\"id\": 111, \"produto\": \"Processador\", \"categoria\": \"Computador\", \"preco\": 1500.00, \"quantidade\": 1},\n",
        "    {\"id\": 112, \"produto\": \"Gabinete\", \"categoria\": \"Computador\", \"preco\": 200.00, \"quantidade\": 2},\n",
        "    {\"id\": 113, \"produto\": \"Memória RAM\", \"categoria\": \"Computador\", \"preco\": 80.00, \"quantidade\": 4},\n",
        "    {\"id\": 114, \"produto\": \"SSD\", \"categoria\": \"Computador\", \"preco\": 400.00, \"quantidade\": 2},\n",
        "]"
      ]
    },
    {
      "cell_type": "markdown",
      "metadata": {
        "id": "4iA7jy97VTvT"
      },
      "source": [
        "1.   Crie um dicionário que organize os dados por categoria.\n",
        "\n",
        "2.   Para cada categoria, mostre a soma do faturamento (preço × quantidade).\n",
        "\n",
        "\n"
      ]
    },
    {
      "cell_type": "markdown",
      "metadata": {
        "id": "-5BXXn65Vbz5"
      },
      "source": [
        "Formato da saída:\n",
        "\n",
        "```python\n",
        "{\n",
        "    \"Periféricos\": {\"faturamento\": 1388.70},\n",
        "    \"Computador\": {\"faturamento\": 10500.00}\n",
        "}\n",
        "```"
      ]
    },
    {
      "cell_type": "markdown",
      "metadata": {
        "id": "zCRhWJwBWBfP"
      },
      "source": [
        "# Exercício 03:\n",
        "\n",
        "Você está construindo um sistema que recebe dados de vendas de uma API. Seu objetivo é encapsular o processamento desses dados dentro de uma classe chamada ProcessadorVendas."
      ]
    },
    {
      "cell_type": "code",
      "execution_count": 3,
      "metadata": {
        "id": "pJunjR5VWDrW"
      },
      "outputs": [],
      "source": [
        "dados_vendas = [\n",
        "    {\"produto\": \"Mouse\", \"categoria\": \"Periféricos\", \"preco\": 89.90, \"quantidade\": 3},\n",
        "    {\"produto\": \"Teclado\", \"categoria\": \"Periféricos\", \"preco\": 120.00, \"quantidade\": 2},\n",
        "    {\"produto\": \"Notebook\", \"categoria\": \"Computador\", \"preco\": 3500.00, \"quantidade\": 1},\n",
        "    {\"produto\": \"Servidor\", \"categoria\": \"Computador\", \"preco\": 7000.00, \"quantidade\": 1},\n",
        "    {\"produto\": \"Cabo HDMI\", \"categoria\": \"Acessórios\", \"preco\": 29.90, \"quantidade\": 5},\n",
        "    {\"produto\": \"Monitor\", \"categoria\": \"Periféricos\", \"preco\": 899.00, \"quantidade\": 1},\n",
        "    {\"produto\": \"Impressora\", \"categoria\": \"Periféricos\", \"preco\": 400.00, \"quantidade\": 2},\n",
        "    {\"produto\": \"Tablet\", \"categoria\": \"Computador\", \"preco\": 1500.00, \"quantidade\": 1},\n",
        "    {\"produto\": \"Pendrive\", \"categoria\": \"Periféricos\", \"preco\": 50.00, \"quantidade\": 5},\n",
        "    {\"produto\": \"Scanner\", \"categoria\": \"Periféricos\", \"preco\": 300.00, \"quantidade\": 1},\n",
        "    {\"produto\": \"Webcam\", \"categoria\": \"Periféricos\", \"preco\": 120.00, \"quantidade\": 3},\n",
        "    {\"produto\": \"Processador\", \"categoria\": \"Computador\", \"preco\": 1500.00, \"quantidade\": 1},\n",
        "    {\"produto\": \"Gabinete\", \"categoria\": \"Computador\", \"preco\": 200.00, \"quantidade\": 2},\n",
        "    {\"produto\": \"Memória RAM\", \"categoria\": \"Computador\", \"preco\": 80.00, \"quantidade\": 4},\n",
        "    {\"produto\": \"SSD\", \"categoria\": \"Computador\", \"preco\": 400.00, \"quantidade\": 2},\n",
        "]\n"
      ]
    },
    {
      "cell_type": "markdown",
      "metadata": {
        "id": "Ad0JXY_KWWNH"
      },
      "source": [
        "Implemente a classe `ProcessadorVendas` com os seguintes métodos:\n",
        "\n",
        "* `__init__` → recebe a lista de dicionários com as vendas.\n",
        "* `faturamento_total` → retorna o faturamento total de todas as vendas.\n",
        "* `faturamento_por_categoria` → retorna um dicionário com o faturamento por categoria.\n",
        "* `produto_mais_vendido` → retorna o nome do produto com maior quantidade vendida (não o valor total, e sim o volume)."
      ]
    }
  ],
  "metadata": {
    "colab": {
      "provenance": []
    },
    "kernelspec": {
      "display_name": "base",
      "language": "python",
      "name": "python3"
    },
    "language_info": {
      "codemirror_mode": {
        "name": "ipython",
        "version": 3
      },
      "file_extension": ".py",
      "mimetype": "text/x-python",
      "name": "python",
      "nbconvert_exporter": "python",
      "pygments_lexer": "ipython3",
      "version": "3.11.5"
    }
  },
  "nbformat": 4,
  "nbformat_minor": 0
}
